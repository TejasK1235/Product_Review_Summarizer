{
 "cells": [
  {
   "cell_type": "code",
   "execution_count": 1,
   "id": "927e29ce-8394-4dc0-8f7c-4b0fcdf2bb98",
   "metadata": {},
   "outputs": [],
   "source": [
    "# Extractive summarization imports\n",
    "import nltk\n",
    "import numpy as np\n",
    "import pandas as pd\n",
    "import networkx as nx\n",
    "from sklearn.feature_extraction.text import TfidfVectorizer\n",
    "from sklearn.metrics.pairwise import cosine_similarity\n",
    "from nltk.tokenize import sent_tokenize\n",
    "\n",
    "# nltk.download('punkt')"
   ]
  },
  {
   "cell_type": "code",
   "execution_count": 2,
   "id": "1a0cf413-b8ea-4e8f-873c-2d078378160b",
   "metadata": {},
   "outputs": [
    {
     "data": {
      "text/html": [
       "<div>\n",
       "<style scoped>\n",
       "    .dataframe tbody tr th:only-of-type {\n",
       "        vertical-align: middle;\n",
       "    }\n",
       "\n",
       "    .dataframe tbody tr th {\n",
       "        vertical-align: top;\n",
       "    }\n",
       "\n",
       "    .dataframe thead th {\n",
       "        text-align: right;\n",
       "    }\n",
       "</style>\n",
       "<table border=\"1\" class=\"dataframe\">\n",
       "  <thead>\n",
       "    <tr style=\"text-align: right;\">\n",
       "      <th></th>\n",
       "      <th>parent_asin</th>\n",
       "      <th>product_title</th>\n",
       "      <th>average_rating</th>\n",
       "      <th>review_text</th>\n",
       "      <th>avg_user_rating</th>\n",
       "      <th>helpful_vote</th>\n",
       "    </tr>\n",
       "  </thead>\n",
       "  <tbody>\n",
       "    <tr>\n",
       "      <th>0</th>\n",
       "      <td>0001046314</td>\n",
       "      <td>A Woman of Substance</td>\n",
       "      <td>4.6</td>\n",
       "      <td>Great for a quick tape of the best Bradford bo...</td>\n",
       "      <td>4.0</td>\n",
       "      <td>0</td>\n",
       "    </tr>\n",
       "    <tr>\n",
       "      <th>1</th>\n",
       "      <td>0001046519</td>\n",
       "      <td>The Importance of Being Earnest Complete &amp; Una...</td>\n",
       "      <td>4.5</td>\n",
       "      <td>Oscar Wilde's masterpiece, this play has many,...</td>\n",
       "      <td>5.0</td>\n",
       "      <td>1</td>\n",
       "    </tr>\n",
       "    <tr>\n",
       "      <th>2</th>\n",
       "      <td>0001048236</td>\n",
       "      <td>The Sherlock Holmes Audio Collection</td>\n",
       "      <td>3.6</td>\n",
       "      <td>Just as advertised</td>\n",
       "      <td>5.0</td>\n",
       "      <td>0</td>\n",
       "    </tr>\n",
       "    <tr>\n",
       "      <th>3</th>\n",
       "      <td>0001048252</td>\n",
       "      <td>All the Pretty Horses</td>\n",
       "      <td>4.3</td>\n",
       "      <td>perhaps the most memorable of the Border Trilo...</td>\n",
       "      <td>4.5</td>\n",
       "      <td>2</td>\n",
       "    </tr>\n",
       "    <tr>\n",
       "      <th>4</th>\n",
       "      <td>0001048791</td>\n",
       "      <td>The Crucible Performed by Stuart Pankin, Jerom...</td>\n",
       "      <td>4.6</td>\n",
       "      <td>Completely unabridged audio version of The Cru...</td>\n",
       "      <td>5.0</td>\n",
       "      <td>0</td>\n",
       "    </tr>\n",
       "  </tbody>\n",
       "</table>\n",
       "</div>"
      ],
      "text/plain": [
       "  parent_asin                                      product_title  \\\n",
       "0  0001046314                               A Woman of Substance   \n",
       "1  0001046519  The Importance of Being Earnest Complete & Una...   \n",
       "2  0001048236               The Sherlock Holmes Audio Collection   \n",
       "3  0001048252                              All the Pretty Horses   \n",
       "4  0001048791  The Crucible Performed by Stuart Pankin, Jerom...   \n",
       "\n",
       "   average_rating                                        review_text  \\\n",
       "0             4.6  Great for a quick tape of the best Bradford bo...   \n",
       "1             4.5  Oscar Wilde's masterpiece, this play has many,...   \n",
       "2             3.6                                 Just as advertised   \n",
       "3             4.3  perhaps the most memorable of the Border Trilo...   \n",
       "4             4.6  Completely unabridged audio version of The Cru...   \n",
       "\n",
       "   avg_user_rating  helpful_vote  \n",
       "0              4.0             0  \n",
       "1              5.0             1  \n",
       "2              5.0             0  \n",
       "3              4.5             2  \n",
       "4              5.0             0  "
      ]
     },
     "execution_count": 2,
     "metadata": {},
     "output_type": "execute_result"
    }
   ],
   "source": [
    "df = pd.read_csv(\"grouped_reviews.csv\")\n",
    "df.head()"
   ]
  },
  {
   "cell_type": "code",
   "execution_count": 15,
   "id": "0db214fb-dbcf-49b9-ad79-1231f450466f",
   "metadata": {},
   "outputs": [],
   "source": [
    "def extractive_summary(text, top_percent=0.25, similarity_threshold=0.8):\n",
    "    # Split text into sentences\n",
    "    sentences = sent_tokenize(text)\n",
    "    if len(sentences) < 3:\n",
    "        return text  # too short to summarize\n",
    "\n",
    "    # Vectorize sentences using TF-IDF\n",
    "    vectorizer = TfidfVectorizer(stop_words='english')\n",
    "    X = vectorizer.fit_transform(sentences)\n",
    "\n",
    "    # Build similarity matrix\n",
    "    sim_matrix = cosine_similarity(X, X)\n",
    "\n",
    "    # Apply TextRank (PageRank)\n",
    "    nx_graph = nx.from_numpy_array(sim_matrix)\n",
    "    scores = nx.pagerank(nx_graph)\n",
    "\n",
    "    # Rank sentences\n",
    "    ranked_sentences = sorted(((scores[i], s, i) for i, s in enumerate(sentences)), reverse=True)\n",
    "\n",
    "    # Select top N% of sentences\n",
    "    top_n = max(1, int(len(sentences) * top_percent))\n",
    "    selected = sorted(ranked_sentences[:top_n], key=lambda x: x[2])  # preserve order\n",
    "\n",
    "    # Remove near-duplicate sentences\n",
    "    final_sentences = []\n",
    "    used = set()\n",
    "    for _, sent, idx in selected:\n",
    "        vec = X[idx].toarray()\n",
    "        if all(cosine_similarity(vec, X[j].toarray())[0][0] < similarity_threshold for j in used):\n",
    "            final_sentences.append(sent)\n",
    "            used.add(idx)\n",
    "\n",
    "    # Join back to form the summary\n",
    "    summary = \" \".join(final_sentences)\n",
    "    return summary"
   ]
  },
  {
   "cell_type": "code",
   "execution_count": 11,
   "id": "0f2af815-94ff-430e-bfe5-3f1121ffe35c",
   "metadata": {},
   "outputs": [
    {
     "data": {
      "text/html": [
       "<div>\n",
       "<style scoped>\n",
       "    .dataframe tbody tr th:only-of-type {\n",
       "        vertical-align: middle;\n",
       "    }\n",
       "\n",
       "    .dataframe tbody tr th {\n",
       "        vertical-align: top;\n",
       "    }\n",
       "\n",
       "    .dataframe thead th {\n",
       "        text-align: right;\n",
       "    }\n",
       "</style>\n",
       "<table border=\"1\" class=\"dataframe\">\n",
       "  <thead>\n",
       "    <tr style=\"text-align: right;\">\n",
       "      <th></th>\n",
       "      <th>parent_asin</th>\n",
       "      <th>product_title</th>\n",
       "      <th>review_length</th>\n",
       "    </tr>\n",
       "  </thead>\n",
       "  <tbody>\n",
       "    <tr>\n",
       "      <th>4029</th>\n",
       "      <td>B00003CXKT</td>\n",
       "      <td>Test Big Data 1737</td>\n",
       "      <td>593541</td>\n",
       "    </tr>\n",
       "    <tr>\n",
       "      <th>5289</th>\n",
       "      <td>B000058983</td>\n",
       "      <td>Forever Changes</td>\n",
       "      <td>186706</td>\n",
       "    </tr>\n",
       "    <tr>\n",
       "      <th>1678</th>\n",
       "      <td>B000002TYZ</td>\n",
       "      <td>Anthology 2</td>\n",
       "      <td>98753</td>\n",
       "    </tr>\n",
       "    <tr>\n",
       "      <th>1677</th>\n",
       "      <td>B000002TYX</td>\n",
       "      <td>Anthology 1</td>\n",
       "      <td>97616</td>\n",
       "    </tr>\n",
       "    <tr>\n",
       "      <th>5759</th>\n",
       "      <td>B00005JOKM</td>\n",
       "      <td>Good Night, and Good Luck.</td>\n",
       "      <td>76602</td>\n",
       "    </tr>\n",
       "    <tr>\n",
       "      <th>424</th>\n",
       "      <td>1401923119</td>\n",
       "      <td>The Biology of Belief: Unleashing the Power of...</td>\n",
       "      <td>75969</td>\n",
       "    </tr>\n",
       "    <tr>\n",
       "      <th>5845</th>\n",
       "      <td>B00005M97A</td>\n",
       "      <td>Willa Was Here</td>\n",
       "      <td>65522</td>\n",
       "    </tr>\n",
       "    <tr>\n",
       "      <th>22339</th>\n",
       "      <td>B0015FQZ94</td>\n",
       "      <td>Ghosts I - IV</td>\n",
       "      <td>56411</td>\n",
       "    </tr>\n",
       "    <tr>\n",
       "      <th>23491</th>\n",
       "      <td>B001B71NOI</td>\n",
       "      <td>The Slip</td>\n",
       "      <td>54938</td>\n",
       "    </tr>\n",
       "    <tr>\n",
       "      <th>5760</th>\n",
       "      <td>B00005JPAM</td>\n",
       "      <td>The Queen</td>\n",
       "      <td>54499</td>\n",
       "    </tr>\n",
       "    <tr>\n",
       "      <th>24256</th>\n",
       "      <td>B001EJH4SW</td>\n",
       "      <td>2 For 1 - Hide 'Em In Your Heart 1</td>\n",
       "      <td>41519</td>\n",
       "    </tr>\n",
       "    <tr>\n",
       "      <th>1676</th>\n",
       "      <td>B000002TTH</td>\n",
       "      <td>Promised Land</td>\n",
       "      <td>41048</td>\n",
       "    </tr>\n",
       "    <tr>\n",
       "      <th>5761</th>\n",
       "      <td>B00005JPXP</td>\n",
       "      <td>3:10 to Yuma</td>\n",
       "      <td>36213</td>\n",
       "    </tr>\n",
       "    <tr>\n",
       "      <th>52294</th>\n",
       "      <td>B00RYHZH00</td>\n",
       "      <td>The New Recordings</td>\n",
       "      <td>36013</td>\n",
       "    </tr>\n",
       "    <tr>\n",
       "      <th>4709</th>\n",
       "      <td>B00004X16D</td>\n",
       "      <td>Verdi</td>\n",
       "      <td>34154</td>\n",
       "    </tr>\n",
       "    <tr>\n",
       "      <th>13052</th>\n",
       "      <td>B000ESX58C</td>\n",
       "      <td>EVANESCENCE \"Origin\" CD by BIGWIG, 11 tracks</td>\n",
       "      <td>33711</td>\n",
       "    </tr>\n",
       "    <tr>\n",
       "      <th>70153</th>\n",
       "      <td>B0B91VFL2L</td>\n",
       "      <td>Charles Schlueter: Retrospective - A Life in T...</td>\n",
       "      <td>32756</td>\n",
       "    </tr>\n",
       "    <tr>\n",
       "      <th>8784</th>\n",
       "      <td>B0002ZMJCA</td>\n",
       "      <td>Outrun The Sky</td>\n",
       "      <td>31481</td>\n",
       "    </tr>\n",
       "    <tr>\n",
       "      <th>29345</th>\n",
       "      <td>B002X3XR70</td>\n",
       "      <td>Your Wish Is Your Command Series Player</td>\n",
       "      <td>30059</td>\n",
       "    </tr>\n",
       "    <tr>\n",
       "      <th>1742</th>\n",
       "      <td>B0000041LO</td>\n",
       "      <td>Haydn: Complete Piano Trios</td>\n",
       "      <td>29056</td>\n",
       "    </tr>\n",
       "  </tbody>\n",
       "</table>\n",
       "</div>"
      ],
      "text/plain": [
       "      parent_asin                                      product_title  \\\n",
       "4029   B00003CXKT                                 Test Big Data 1737   \n",
       "5289   B000058983                                    Forever Changes   \n",
       "1678   B000002TYZ                                        Anthology 2   \n",
       "1677   B000002TYX                                        Anthology 1   \n",
       "5759   B00005JOKM                         Good Night, and Good Luck.   \n",
       "424    1401923119  The Biology of Belief: Unleashing the Power of...   \n",
       "5845   B00005M97A                                     Willa Was Here   \n",
       "22339  B0015FQZ94                                      Ghosts I - IV   \n",
       "23491  B001B71NOI                                           The Slip   \n",
       "5760   B00005JPAM                                          The Queen   \n",
       "24256  B001EJH4SW                 2 For 1 - Hide 'Em In Your Heart 1   \n",
       "1676   B000002TTH                                      Promised Land   \n",
       "5761   B00005JPXP                                       3:10 to Yuma   \n",
       "52294  B00RYHZH00                                 The New Recordings   \n",
       "4709   B00004X16D                                              Verdi   \n",
       "13052  B000ESX58C       EVANESCENCE \"Origin\" CD by BIGWIG, 11 tracks   \n",
       "70153  B0B91VFL2L  Charles Schlueter: Retrospective - A Life in T...   \n",
       "8784   B0002ZMJCA                                     Outrun The Sky   \n",
       "29345  B002X3XR70            Your Wish Is Your Command Series Player   \n",
       "1742   B0000041LO                        Haydn: Complete Piano Trios   \n",
       "\n",
       "       review_length  \n",
       "4029          593541  \n",
       "5289          186706  \n",
       "1678           98753  \n",
       "1677           97616  \n",
       "5759           76602  \n",
       "424            75969  \n",
       "5845           65522  \n",
       "22339          56411  \n",
       "23491          54938  \n",
       "5760           54499  \n",
       "24256          41519  \n",
       "1676           41048  \n",
       "5761           36213  \n",
       "52294          36013  \n",
       "4709           34154  \n",
       "13052          33711  \n",
       "70153          32756  \n",
       "8784           31481  \n",
       "29345          30059  \n",
       "1742           29056  "
      ]
     },
     "execution_count": 11,
     "metadata": {},
     "output_type": "execute_result"
    }
   ],
   "source": [
    "# Create a new column with review text length\n",
    "df['review_length'] = df['review_text'].astype(str).apply(len)\n",
    "\n",
    "# Sort by review length descending\n",
    "df_sorted = df.sort_values(by='review_length', ascending=False)\n",
    "\n",
    "# Show top 10 products with largest review text\n",
    "df_sorted[['parent_asin', 'product_title', 'review_length']].head(20)"
   ]
  },
  {
   "cell_type": "code",
   "execution_count": 5,
   "id": "74d3511a-25f9-4ba5-be49-9b4a39eb9d12",
   "metadata": {},
   "outputs": [
    {
     "data": {
      "text/plain": [
       "\"Screwtape is a great read and I thought that it would make a great audio book to listen to in the car. Joss Ackland is however an unfortunate choice as a narrator for this work. His reading style is so dry that it makes this lively book a real chore to listen to. I imagine that John Cleese would be a much better choice to narrate this work. I just wish that his narration was still available. I have long loved this book and this audio performance is almost as good as the one John Cleese did years ago. A great Story to go on a trip with I bought this audiobook to listen to in my car during my commute, and I'm very glad I did. I think Joss Ackland was a great choice for a narrator, his voice is really demony! It's a great book, and a great reading!\""
      ]
     },
     "execution_count": 5,
     "metadata": {},
     "output_type": "execute_result"
    }
   ],
   "source": [
    "# Choose a product ID\n",
    "sample_asin = df.iloc[29]['parent_asin']\n",
    "df[df['parent_asin'] == sample_asin].iloc[0]['review_text']"
   ]
  },
  {
   "cell_type": "code",
   "execution_count": 6,
   "id": "cd596fdb-cc81-40ae-a0d9-f4cf1227f23e",
   "metadata": {},
   "outputs": [
    {
     "data": {
      "text/plain": [
       "'0007159854'"
      ]
     },
     "execution_count": 6,
     "metadata": {},
     "output_type": "execute_result"
    }
   ],
   "source": [
    "df.iloc[29]['parent_asin']"
   ]
  },
  {
   "cell_type": "code",
   "execution_count": 8,
   "id": "4bfba9ea-da88-450c-8cfc-23a8ac505bd6",
   "metadata": {},
   "outputs": [
    {
     "name": "stdout",
     "output_type": "stream",
     "text": [
      "Product: The Screwtape Letters Complete and Unabridged\n",
      "\n",
      "Full Review Text (first 500 chars):\n",
      "\n",
      "Screwtape is a great read and I thought that it would make a great audio book to listen to in the car. Joss Ackland is however an unfortunate choice as a narrator for this work. His reading style is so dry that it makes this lively book a real chore to listen to. I imagine that John Cleese would be a much better choice to narrate this work. I just wish that his narration was still available. I have long loved this book and this audio performance is almost as good as the one John Cleese did years ...\n",
      "\n",
      "Extractive Summary:\n",
      "\n",
      "Screwtape is a great read and I thought that it would make a great audio book to listen to in the car. It's a great book, and a great reading!\n"
     ]
    }
   ],
   "source": [
    "# Enter a product ID manually\n",
    "product_id = \"0007159854\"  # e.g., 'B00X4WHP5E'\n",
    "product_data = df[df[\"parent_asin\"] == product_id].iloc[0]\n",
    "\n",
    "print(\"Product:\", product_data[\"product_title\"])\n",
    "print(\"\\nFull Review Text (first 500 chars):\\n\")\n",
    "print(product_data[\"review_text\"][:500], \"...\\n\")\n",
    "\n",
    "summary = extractive_summary(product_data[\"review_text\"], top_percent=0.25)\n",
    "print(\"Extractive Summary:\\n\")\n",
    "print(summary)\n"
   ]
  },
  {
   "cell_type": "code",
   "execution_count": 12,
   "id": "ce4e6fc5-94f5-4f87-b9af-4492936297ef",
   "metadata": {},
   "outputs": [],
   "source": [
    "# B002X3XR70"
   ]
  },
  {
   "cell_type": "code",
   "execution_count": 13,
   "id": "36d7c661-5256-4466-b266-68cf7459b07a",
   "metadata": {
    "scrolled": true
   },
   "outputs": [
    {
     "data": {
      "text/plain": [
       "\"For anyone who says this program is a scam or a complete waste of money has also not read the entire Bible, nor can they be a Christian. I doubt many, if any, caught this. That's not a bad thing, it's just a fact because every single principle outlined and discussed in the program actually expands on what the Bible says about prayer, the golden rule, perseverance, positive thinking, being grateful and thankful, listening and believing to the right people, how to get your prayers answered, ect....if anyone whether they are a believer or not has taken the time to actually read the Bible in it's entirety then they simply cannot deny this. If you are a Christian follower, then I believe this course actually clarifies and helps explain a little better some of the concepts in the Bible.br br It also agrees with many, if not all, of the so called conspiracy theories I've read about and heard about concerning the real goals behind governments, The IMF, The World Bank, ect....when it comes to the ruling elite class and all the other people on earth.br br Keep in mind that you will have some people who have NOT listened to this course and have given a review solely based on what they've read someone else said about it. Personally....I have my suspicions about why anyone would charge ANY amount money after they've achieved a certain amount of wealth, an accumulated wealth so great that they or their children would have a very hard time spending, IF they was truly and sincerely concerned about helping people. Let alone charging such a high price for it in this state of economy. It's my opinion when things around the world are bad, people are desperate for help and hope and then these kinds of self help courses suddenly appear out of no where. Then you have the Multi level marketing aspect of it...if you want to join. That also leaves a bad taste in my mouth. It makes him appear as a parasitic, greedy person who simply has the gift of gab. I personally had problems from the company that handled the credit card transactions from his natural cures website and I will never, EVER, give any company that represents his company my bank account or credit card information again. I would choose to go through a reputable place like Amazon.combr br Given that....I have listened to this course the last couple of days and can state unequivocally that this course is based on Biblical principles and even clarifies principles in the Bible, or so it seems. I will diligently use the methods prescribed in this collection and will definitely report back IF it does, indeed, work. IF it does, and IF it is true.....then my wishes will come true and I, personally, will have NO need for other peoples money IF I am adamant about helping people. I mean after all....how much money does one person really need?br br Personally.....I would wait to purchase this to see if it does work. If it works....then the masses will DEFINITELY hear about it. If it doesn't....then it will go the way of that other self help bookdvd the secret, as well as the countless others. My recommendation...wait and see if it works for other people first. I listen to this the most these audios are priceless! i tell no lie...i have never smiled SOO much my whole life!!! and i have always been happy! thats what i cant understand. i was happy...but now i am even happier. YOU GET WHAT YOU THINK ABOUT MOST OF THE TIME...this will show u exactly how to do that. get it !! I listened to this set of Cd's twice and thought I already knew this stuff. I have always been interested in phenomenas such as this. The line in this CD set that proclaims You don't know what you don't know, are truly words to live by as none of us truly know anything. Putting the set to the side for about 6 months as other items took over in my life, one day I found myself in need and a break to listened to 1 CD out of the collection again. This time however it truly caught my curiosity as I heard a few things I had missed the first 2 times so I listened to the complete set again. It has caught fire and I listen to it going to bed now every day, each time hearing things I had not heard the previous.br br There is a tremendous amount of negative press a lecture CD set like this can bring onto itself they are not for everyone unfortunately. I say unfortunately with this one as anyone with a will to learn can apply these techniques to their life and make huge changes without any effort other than to understand the material. It is no secret that changes within ones being will create changes through out their life. As it is stated in the CD set the basics are the meat of this lesson.br br Me, I thought I had it all figured out, wasn't ambitious with a happy go lucky attitude and was doing well. What I never got was the final hill. No matter where you are in life this CD set illuminates the fact that there is more and you can get there if you only believe you can and maybe more importantly, want to go there. Wanting is everything. Now I hear every negative thought that creeps into my mind but this CD collection states it clearly It's OK to have negative thoughts as long as they are not what you think about most of the time. And when you do receive that first confirmation that you are being heard and that this stuff does work look out, you will change thus changing your life.br br Your mission is simple Listen to the CD set over and over again. If you can get yourself to a place where you are understanding and wanting to do just that, you have arrived. You don't have to buy anything more, invest in anything although there are opportunities presented later in the CD set, you just have to listen to them repeatedly for a while. If you can't do that then just move on, you are right, it won't work for you.br br There are a few critical reviews of this product and I can tell you that in the beginning I was with them. Is he really in the Alps? Why can't I hear anyone other than him, etc.... But, 6 months later I had a little different approach Does it matter if he is really in the Alps if the material is accurate? I don't know if he was in the Alps or not but in reality it doesn't matter. What matters is the technique. You know, maybe that first bridge is put there to see if you will cross it. If you can't or won't then you can't, no harm no fowl.br br Those are my thoughts I am truly enjoying the process. Yes, I know that there are some concerns about Kevin Trudeau's reputation. Prior to listening to this set I had my own reservations about him. But this set is the real deal. Yes, you can get this information elsewhere, but not in a concise, well thought out format. Here, in a nutshell, is the Law of Attraction LOA, explained and laid out with easy to follow steps. For me, this set is what I have been looking for, indeed, attracted into my life because of my desire to find more information. I have read many books on the LOA before this, some of the best in fact nearly all of the AbrahamHicks books, but I still had difficulty in applying the LOA in a consistent manner. There were still things that I didn't know. This collection spells it all out, simply and clearly. Another reviewer said that the CDs should be abridged. I disagree. The delivery technique used is designed to ingrain the information into your mind. Repetition is very important. Abridging the material would make it less effective. In the lecture Kevin insists that you listen to the set again and again. So far I have listened to the entire set nearly 9 times. Every time my enthusiasm increases. And even after 9 times, I still hear new information that I didn't notice before, and I listen carefully.br br I paid 200 for the download from Trudeau's website. I think it was a steal. This information is worth much more than what I paid. These CDs are invaluable. If I'd had this set first, before buying the other material on the subject, I would have saved myself a bundle. But then I don't regret the money I've spent on my research. My willingness to accept change is high. The results I've had so far are well worth what I've spent.br br As for Kevin Trudeau's run in with the federal government that is not a negative in my book. There is much information that has been suppressed by the federal government that is highly beneficial to it's citizenry and yet is not made available. Example I know of cures for cancer I mean first hand experience that are not allowed to be sold because they compete directly with the drug companies that are in the pocket of the FDA or is it the other way around?. One such instance is of a botanical, natural cure for skin cancers. The owner of the lab that makes salve has been persecuted by the FBI and the FDA. The problem? The product WORKS, as advertised. But it comes from a natural source and cannot be patented. The entire operation had to move to Ecuador, but even then the FDA sought to extradite the owner. Fortunately the product is available to those who know about it, but the information is suppressed. I do not encourage anyone to break the law, but when we are no longer permitted to make our own decisions about how we conduct our lives, then there is something wrong with our system of government. Kevin Trudeau knows this. Is it no wonder then, that he has runins with the government?br br After reading some of the the other reviews I am reminded that there is something of a drawback to the series and that is the last CD, 14. It is a major sell of the Global Information Network. I am not a member and I don't know if I will become one, but this last disk is full of the benefits of joining the GIN, repeated again and again. Now Kevin has every right to include this disk and after all he is out to make money. But aren't we all?? When I listen to the series I don't include this disk. I think that the first time I listened to the entire series and I got to that last disk, I realized what it was and did not finish listening to it. The set is still a gem. Just don't listen to the last one if you don't like hard sell.br br I have seen results from applying the LOA, more quickly than I have in the past. This set is a fabulous tool for self improvement. I listened to the whole set of recordings and found nothing new. If you're familiar with Law of Attraction teachings and techniques, you'll feel the same. The first 3 CDs are painfully repetitive with very little real content. That's over 3 hours of pure fluff before even the most basic concepts are discussed. I listened to all that in the hope of having the promised. If you read the classics like Think and Grow Rich, The Magic of Thinking Big, anything by Esther HicksAbraham, then watch the movie The Secret original version with HicksAbraham, learn EFT for free, read Write it Down, Make it Happen, and focus on feeling good then you've got this collection. One CD is focused on selling the listener on joining up with his Global Information Network so that you can buy even more CDs that all sound like CD sets already out there, such a real estate investing, Internet marketing, etc. and be a part of his own private secret society for networking with others that sign up.br br Interesting that there's so much focus on trusting your feelings throughout these recordings. I found myself questioning the existence of the lecture where these recordings were supposed to have been made. Throughout the audio one can hear background noise, such as car horns and sirens, yet when one of the lecture attendees asks a question they cannot be heard on the recording. Also, according to Trudeau, the lecture is taking place in some amazingly opulent home. Why would one be able to hear street noises in such a place? Doesn't seem to fit the image he was trying to put across. He refers to someone there is king and then jokes about how his real title is royal highness but since they're such great buds he calls him king. Maybe we have now found where Elvis is really hiding out. He repeatedly refers to his colleagues that are supposedly present there with him, amazingly wealthy and powerful people from all over the world, but yet none of them are ever heard to speak nor does he ever mention any of them by name. Ever. It's like the audio version of the emperor's new clothes. I love this product! It works, but just as everything in life that's worth having, you must really want it do what Kevin says. He IS the proof! Listen over over to these CDs. Put them on your iPodiPhone. This is basic science physics. This product will never work for a lazy person, as will nothing in life satisfy a lazy person.br These CDs were recorded at a lodge in The Alps, the cost per person, 10,000. Kevin didn't want to waste his time wpeople who aren't serious about learning to think positively. A bargain for a lifetime of success! Long story short it's a grand scam. Look up author he is a convicted criminal. My family is currently fighting for my mother who is sucked in into this cultlike group. I should have read the fact that it was not complete. My bad but all else was done as said. This guy takes about 30 minutes of information and stretches it out for hours. It is terribly slow. He drags concepts out, lacks focus and is truly the master of repeating the same thing in different ways. He throws around names of secret societies to give the information more weight and spends a lot of time discrediting other get rich information sources. It's ridiculous. He speaks a lot about what the course is going to give you, but I'm on the third disc and still not sure if it has started yet. I feel bad for all of the folks that are so desperate to become rich that they throw money into this junk. You are better off taking a trip to the library.br I'm surprised he didn't add a track of ambient sound to make the illusion that he was speaking to people more believable.br br Let me save you some valuable time and money and reveal these secrets to you nowbr br Be teachablebr br Read Booksbr br Listen to REAL people who are successful Unless their success is based on taking advantage of others.br br Be willing to accept changebr br What you think are facts, might really be opinionsbr br Create new neuro pathways through repetitionbr br Learn the basics first This is an awesome CD set. I would recommend it to anyone who seriously wants to change their life for the better. It is truly empowering and will change the way you view everything. This is AWESOME!!!! Everyone NEEDS this program!! I've seen and heard em all. This is another story, THE REAL STORY!!. The missing parts of all others. If you've heard of the secret or the law of attraction or think and grow rich or law of success or similar thoughtsintothings books, this CD set is similar. The difference I feel is Kevin Trudeau had brought all of the teachings together and paints a good picture of how to actually apply the techniques with some additional insights that other booksgurus do not talk about or are even incorrect.br br Kevin Trudeau says he was taught these secrets from belonging to the brotherhood secret society. He claims the CDs were recorded on an undisclosed location in the alps somewhere, charged 10,000 per person to attend, and even had high profile colleagues in attendance who were also members of secret societies which I now doubt. You never hear any people talking or moving around in the background for the entire 10 CDs and none of the secret society members in attendance say a word and then at the last 12th CD the audio is suddenly much louder and then you can clearly hear the students as they ask questions. Also, in the 10th CD, disk 7 at about 820 on the track, you hear a faint ambulance sound which gets louder then dissapears. Kevin is a masterful marketer and I think a lot of it is fabricated for hype.br br Nonetheless, I give the CD sets a 5 star because it is the materials he shares I believe is spot on. More so than any other similar type bookscds. And the materials really do miracles in changing how you think. As Zig Ziglar said, you must first BE to DO, then DO to HAVE.br br An outline of the entire CD sets he gives is broken down like thisbr 1. Have a Definite Chief Aimbr 2. Have a burning obsession for itbr 3. Think about it all the timebr 4. Feel good and happy when you think about it and always work to feel goodbetter.br br This is the outline but the details and explanations supporting the formula is very valuable and you should study the materials in the CDs to truly understand and believe. Everytime I listen to the CDs it gives me more and more feelings of hope, confidence, positive thinking and not because it is Rah Rah motivational but because your understanding deepens that you truly have what it takes to change and be do or have anything you really want.br br I hope this review helps others and if you have any questions or even specific questions on the content of the materials, feel free to reach out. I think I know the materials fairly well and am working to apply everyday currently. Also, I am not affiliated with any of Kevins companies and dont care to get involved either. It may be great but just not for me right now.br br Best, Buy it now! Listen to it now! Do it NOW! Do not wait and waste anymore time in your life. Learn, finally...how to be, do and have anything and everything you want in life! How to get it faster than ever before possible. Did it take you 10 years to get where you're at i.e. to mess your life up? 25 years? 50?...well, the good news is, you can turn your life around instantly and get where you want in a fraction of the time by applying the teachings on these CD's!!! When done, you'll be ready to go and collect what belongs to you! Do not go and collect your wish until you've listened to the CD's...when ready go to ... and get what is yours you'll be ready! Are you ready? I think that these CDs contain great information and Trudeau is 34sounds34 very sincere and convincing. The question is, do I feel like These CDs changed my mindset. Yes, but in addition to all of the other things that I read and listen to.br br I agree with the fact that it could have easily been put on 34 CDs. It is wayyy too long. Especially the first two CDs. They are really unnecessary. The introductory CD is just him talking and talking about nothing. I bought Your Wish Is Your Command CDs at a thrift store for about six dollars. No missing CDs and all of them were in awesome conditions, including the box case. A killer bargain. I have to admit that I'm impressed with the CDs contents about the Law of Attraction. The CDs is providing me with tools how to remove unwanted emotions, or vibrations that I accumulated through out the years so I can create the life that I always wanted bringing abundance in all areas of my life.br br The controversy about Kevin is no concern with me because his knowledge about LOA is pretty much the same what I read from other well known LOA authors. What makes him stand out from other authors is that he points out why the LOA does not work for some people and gives valuable tips how to remove negative frequencies so we can align ourselves with the Universe. If you want to achieve more in life, and be happier and healthier, you need these CDs! They are Great if you have an open mind. First of all, if this guy is a so called master of the method, why does he get sued left and right? Why wouldn't he just wish to not get sued anymore. There is no question that this guy recorded this solo in his bedroom and is faking like he's in the Swiss Alps with unnamed colleagues. This is painfully obvious and insulting to the listener. He keeps talking about how this information is really important and how you should listen to the CD's over and over again blah blah blah but hardly says anything. He could have condensed all of the information in like 10 minutes of audio. This is quite possibly the whackest thing I've ever heard in my life. The worst thing is the offer to join to extremely fake Global Information Society to meet with billionaires and learn their secrets. Is this guy for real? Does he think we're that stupid? I can see some really broke, uneducated losers falling for this nonsense so good for Kevin Trudeau. He found another way to sell snow to eskimos. I discovered this course via an email I received from Joe Vitale. I happen to be on Joe's email list. In the email, Joe talked about how he met Kevin Trudeau and his wife for dinner. During that meeting, Mr. Trudeau gave Joe a copy of the course.br br Joe went on to explain that it was one of the best programs on the Law Of Attraction and Manifesting that he's ever listened to. Joe said that he took lots of notes and he gave the course his full endorsement. Joe even went so far as to say that he's not an affiliate of the program and that he's endorsing it just because it's that good.br br Well, I decided to order the program. I've been a student of prosperity consciousness and personal development for years. I've read Think Grow Rich many times, beginning in college. I've also read some other great books such as Working With The Law by Raymond Holliwell and Three Magic Words by US Andersen, both of which talk about the Law of Attraction.br br First let me say this. The information Mr. Trudeau presents is not new. It's just that you may have not heard of this before, unless you are a voracious reader. Secondly, this information is not his information. He learned and applied it to his life over the years and he's gotten some amazing results.br br This program brought a lot of clarity to me about why I attracted things I wanted and why I created things I didn't want. Mr. Trudeau did a phenomenal job in explaining the Law of Attraction and the concept of Vibrational Frequency. He also did a wonderful job in explaining the history of Secret Societies. Now most of these societies are notsosecret but what their members have been taught has remained secret..until now.br br One of the Secret Societies he mentions is Skull Bones, which is a wellknown society at Yale University. George Bush Sr. and George Bush Jr. are members as well as Senator John Kerry, just to name a few. There's even a movie out called The Good Shepherd starring Matt Damon that talks about Skull Bones and how they operate.br br In addition to that, he quotes Thomas Edison and Albert Einstein about how our brains are transmitters and receivers of frequencies that can be picked up by other brains and affect physical matter. This concept is discussed in Think Grow Rich and Law of Success by Napoleon Hill. I thought his explanation was simple and easytograsp.br br What I found fascinating was the opposition to Law of Success and Think And Grow Rich when they came out in the 1920s.br It was strikingly similar to the backlash the book The Secret experienced. I won't go into the entire explanationbr that Mr. Trudeau presented. You'll just have to find out for yourself br br What I really like about this program is that the information on the CDs is enough for anyone to dramatically change their life for the better..IF they consciously apply it. Mr. Trudeau gives you the OPTION of reading a list of books that he endorses and recommendsthat are not his and if anyone is interested, they can join The Global Information Network to get additional books and audios if they want to go further in learning the technology.br br I am well aware of Mr. Trudeau's past and some of the negative comments on the internet. Well,I'm glad that I ignored them and invested in the program. In fact, I've listened to it 40 times already. I was one of the people who ordered the program for 39.95 per month for 10 months and I am very happy with my purchase. I've invested thousands of dollars in seminars, two by Tony Robbins. I've also attended the Landmark Forum Seminar and other similar seminars throughout the years. In other words, I'm one of those people who have been on the seminar circuit.br br I received more value from Your Wish Is Your Command than any of those seminars and I didn't have to travel anywhere.br So, for me, spending 399 for this course was a bargain.br br This is NOT as CD program you just listen to once. To get the most of this program, you need to listen to it many times.br The information is presented in a style that is repetitious by design so that it can sink in to your subconscious mind andbr it becomes a part of you.br br Now, I've been getting quite a few emails with questions about this review and about this CD course. So, I'm going to answer some of the most frequently asked questions here.br br 1 Is this course just a rehash of existing material?br NO. Depending on the books you've read, some of the concepts may be familiar to you. However, Kevin discuss some keybr concepts and ideas that conflict with the majority of selfhelp books and seminars out there. Kevin also discusses some concepts that will be new to overwhelming majority of people who listen to this course. I thought the historicalbr context he used to discuss this material was on the money. And if you are one of those people who read Law of Success andbr Think and Grow Rich, both those books are missing some key elements. In fact over 90 of the people who have read The Secret, Think and Grow Rich, and Law of Success haven't gotten the results they wanted. That's why some people have labeled those books a scam or 'snake oil'br br 2 Are you a member of the Global Information Network?br No. I am not currently a member of the Global Information Network.br br 3 How soon can I expect to see results after listening to this program?br That depends how diligent you are in applying the information. Some people will see results pretty quickly.br Others may not see results right away because they have wellestablished negative thought patterns. If you are onebr of those people, you will have to put forth extra effort to establish new thought patterns to get new results.br br The bottom line is this If you think you already know this information and you don't have the results to show it,br you don't know it. You're doing something wrong, plan and simple.br br So,I highly recommend this program to anyone who's looking to tap into their limitless potential.br br Best of Luck To You,br br John Hindsbr Author of the Amazon BestSeller What's In Your Water? I have also listened to this set of CDs, but found them on YouTube. It is just a lot of wonderful, positive, uplifting, proactive information that is helpful to all. Why are there always critics? Be positive for once on this very positive information. Do EFT on being negative and get with the program all you naysayers. Love you.br And I have started the CDs over myself. Just so much information and the more you go over it the more you will get out of it. Good Lord. The man is out to help people. He is not hurting anyone. And he is a very good speaker. I was not bored once. Give it to someone for Christmas. Send a friend to the Youtube videos or buy the series for someone and help spread the word. God Bless. Your Wish Is Your Command is fantastic. I feel it has changed my life and I am very appreciative for this information. I loan it out to my friends because I want to pass along the knowledge and hope it will guide them along too. I like listening to the CDs because I'm still old school and can pop them in my car CD player. The blue case is very sturdy and I like how it organizes the CDs so I can keep track. Maybe someday I will get an MP3. I don't even mind commuting anymore because as I listen to it over and over, each time I feel I glean more positive feelings about life's possibilities. This set is a scam.br br You will notice that nowhere on the box set does it state the man behind this Why? Kevin Trudeau is hiding as he fears the authorities. Kevin Trudeau is an exconvict, prosecuted for misleading the public with his overachieving infocommercials. This is not to say that excons dont stand a chance at reforming their lives.br br I believe everyone deserves second chances. But this guy has repeatedly misled the public in countless efforts. This box set is his latest but this time, his name is not plastered on it it serves as a veil to shield Kevin Trudeau from more investigations by the authorities.br br He is a current bankrupt. If what he preaches is so great, why is he in such a predicament? I say instead of wasting money on this box set that simply rips off material from other, go direct to the established books by authors who are at least honest and uphold certain ethics in this society that is quick to believe. Believing is great, but choose who you want to believe in. And this box set and KT dont get my vote.br br I hope the authorities catch up with him before more fall for his exploits. I stumbled across your wish is your command at my local library. Your wish is your command is without a doubt the biggest piece of crap on the market today. I mean C'mon Elite Brotherhood???? Secret Society???? Free Masons?????? Trudeau claims that 30 years ago he was inducted into an secret society called the elite brotherhood that was formed to hide the secrets to wealth generation from the general public. Supposedly kevin trudeau broke free from the elite brotherhood and is now revealing the elite brotherhood's wealth generating secrets to the general public. In order to gain access to these top secret closely guarded secrets you have to purchase your wish is your command for a low one time payment of 299.00 Included with your purchase are free tickets to one of the brotherhood's secret meetings in the alps in europe. I thought kevin trudeau left the elite brotherhood so how could he be selling tickets to a top secret meeting??? You have got to be kidding me!!!! What's next kevin? Rabie shots for the easter bunny??? I about fell out of my chair because i was laughing so hard!!! Only a totally brain dead fool would fall for this nonsense. IF YOU REALLY WANT TO GET RICH SAVE THE 299.00 AND INVEST IT IN A COLLEGE EDUCATION!!!!\""
      ]
     },
     "execution_count": 13,
     "metadata": {},
     "output_type": "execute_result"
    }
   ],
   "source": [
    "# Choose a product ID\n",
    "df[df['parent_asin'] == 'B002X3XR70'].iloc[0]['review_text']"
   ]
  },
  {
   "cell_type": "code",
   "execution_count": 14,
   "id": "88a76df1-74a3-4b95-bba1-e24da91cce02",
   "metadata": {},
   "outputs": [
    {
     "name": "stdout",
     "output_type": "stream",
     "text": [
      "📦 Product: Your Wish Is Your Command Series Player\n",
      "\n",
      "📝 Full Review Text (first 500 chars):\n",
      "\n",
      "For anyone who says this program is a scam or a complete waste of money has also not read the entire Bible, nor can they be a Christian. I doubt many, if any, caught this. That's not a bad thing, it's just a fact because every single principle outlined and discussed in the program actually expands on what the Bible says about prayer, the golden rule, perseverance, positive thinking, being grateful and thankful, listening and believing to the right people, how to get your prayers answered, ect... ...\n",
      "\n",
      "📚 Extractive Summary:\n",
      "\n",
      "If you are a Christian follower, then I believe this course actually clarifies and helps explain a little better some of the concepts in the Bible.br br It also agrees with many, if not all, of the so called conspiracy theories I've read about and heard about concerning the real goals behind governments, The IMF, The World Bank, ect....when it comes to the ruling elite class and all the other people on earth.br br Keep in mind that you will have some people who have NOT listened to this course and have given a review solely based on what they've read someone else said about it. I mean after all....how much money does one person really need?br br Personally.....I would wait to purchase this to see if it does work. The line in this CD set that proclaims You don't know what you don't know, are truly words to live by as none of us truly know anything. Putting the set to the side for about 6 months as other items took over in my life, one day I found myself in need and a break to listened to 1 CD out of the collection again. This time however it truly caught my curiosity as I heard a few things I had missed the first 2 times so I listened to the complete set again. It has caught fire and I listen to it going to bed now every day, each time hearing things I had not heard the previous.br br There is a tremendous amount of negative press a lecture CD set like this can bring onto itself they are not for everyone unfortunately. As it is stated in the CD set the basics are the meat of this lesson.br br Me, I thought I had it all figured out, wasn't ambitious with a happy go lucky attitude and was doing well. No matter where you are in life this CD set illuminates the fact that there is more and you can get there if you only believe you can and maybe more importantly, want to go there. Now I hear every negative thought that creeps into my mind but this CD collection states it clearly It's OK to have negative thoughts as long as they are not what you think about most of the time. And when you do receive that first confirmation that you are being heard and that this stuff does work look out, you will change thus changing your life.br br Your mission is simple Listen to the CD set over and over again. You don't have to buy anything more, invest in anything although there are opportunities presented later in the CD set, you just have to listen to them repeatedly for a while. If you can't do that then just move on, you are right, it won't work for you.br br There are a few critical reviews of this product and I can tell you that in the beginning I was with them. If you can't or won't then you can't, no harm no fowl.br br Those are my thoughts I am truly enjoying the process. For me, this set is what I have been looking for, indeed, attracted into my life because of my desire to find more information. In the lecture Kevin insists that you listen to the set again and again. And even after 9 times, I still hear new information that I didn't notice before, and I listen carefully.br br I paid 200 for the download from Trudeau's website. The results I've had so far are well worth what I've spent.br br As for Kevin Trudeau's run in with the federal government that is not a negative in my book. Is it no wonder then, that he has runins with the government?br br After reading some of the the other reviews I am reminded that there is something of a drawback to the series and that is the last CD, 14. I think that the first time I listened to the entire series and I got to that last disk, I realized what it was and did not finish listening to it. Just don't listen to the last one if you don't like hard sell.br br I have seen results from applying the LOA, more quickly than I have in the past. I listened to the whole set of recordings and found nothing new. If you read the classics like Think and Grow Rich, The Magic of Thinking Big, anything by Esther HicksAbraham, then watch the movie The Secret original version with HicksAbraham, learn EFT for free, read Write it Down, Make it Happen, and focus on feeling good then you've got this collection. One CD is focused on selling the listener on joining up with his Global Information Network so that you can buy even more CDs that all sound like CD sets already out there, such a real estate investing, Internet marketing, etc. and be a part of his own private secret society for networking with others that sign up.br br Interesting that there's so much focus on trusting your feelings throughout these recordings. It works, but just as everything in life that's worth having, you must really want it do what Kevin says. Listen over over to these CDs. This product will never work for a lazy person, as will nothing in life satisfy a lazy person.br These CDs were recorded at a lodge in The Alps, the cost per person, 10,000. Kevin didn't want to waste his time wpeople who aren't serious about learning to think positively. He throws around names of secret societies to give the information more weight and spends a lot of time discrediting other get rich information sources. You are better off taking a trip to the library.br I'm surprised he didn't add a track of ambient sound to make the illusion that he was speaking to people more believable.br br Let me save you some valuable time and money and reveal these secrets to you nowbr br Be teachablebr br Read Booksbr br Listen to REAL people who are successful Unless their success is based on taking advantage of others.br br Be willing to accept changebr br What you think are facts, might really be opinionsbr br Create new neuro pathways through repetitionbr br Learn the basics first This is an awesome CD set. If you've heard of the secret or the law of attraction or think and grow rich or law of success or similar thoughtsintothings books, this CD set is similar. The difference I feel is Kevin Trudeau had brought all of the teachings together and paints a good picture of how to actually apply the techniques with some additional insights that other booksgurus do not talk about or are even incorrect.br br Kevin Trudeau says he was taught these secrets from belonging to the brotherhood secret society. You never hear any people talking or moving around in the background for the entire 10 CDs and none of the secret society members in attendance say a word and then at the last 12th CD the audio is suddenly much louder and then you can clearly hear the students as they ask questions. Kevin is a masterful marketer and I think a lot of it is fabricated for hype.br br Nonetheless, I give the CD sets a 5 star because it is the materials he shares I believe is spot on. As Zig Ziglar said, you must first BE to DO, then DO to HAVE.br br An outline of the entire CD sets he gives is broken down like thisbr 1. Feel good and happy when you think about it and always work to feel goodbetter.br br This is the outline but the details and explanations supporting the formula is very valuable and you should study the materials in the CDs to truly understand and believe. Everytime I listen to the CDs it gives me more and more feelings of hope, confidence, positive thinking and not because it is Rah Rah motivational but because your understanding deepens that you truly have what it takes to change and be do or have anything you really want.br br I hope this review helps others and if you have any questions or even specific questions on the content of the materials, feel free to reach out. It may be great but just not for me right now.br br Best, Buy it now! Do not go and collect your wish until you've listened to the CD's...when ready go to ... and get what is yours you'll be ready! I think that these CDs contain great information and Trudeau is 34sounds34 very sincere and convincing. Yes, but in addition to all of the other things that I read and listen to.br br I agree with the fact that it could have easily been put on 34 CDs. The CDs is providing me with tools how to remove unwanted emotions, or vibrations that I accumulated through out the years so I can create the life that I always wanted bringing abundance in all areas of my life.br br The controversy about Kevin is no concern with me because his knowledge about LOA is pretty much the same what I read from other well known LOA authors. If you want to achieve more in life, and be happier and healthier, you need these CDs! During that meeting, Mr. Trudeau gave Joe a copy of the course.br br Joe went on to explain that it was one of the best programs on the Law Of Attraction and Manifesting that he's ever listened to. Joe even went so far as to say that he's not an affiliate of the program and that he's endorsing it just because it's that good.br br Well, I decided to order the program. I've read Think Grow Rich many times, beginning in college. I've also read some other great books such as Working With The Law by Raymond Holliwell and Three Magic Words by US Andersen, both of which talk about the Law of Attraction.br br First let me say this. The information Mr. Trudeau presents is not new. He learned and applied it to his life over the years and he's gotten some amazing results.br br This program brought a lot of clarity to me about why I attracted things I wanted and why I created things I didn't want. Now most of these societies are notsosecret but what their members have been taught has remained secret..until now.br br One of the Secret Societies he mentions is Skull Bones, which is a wellknown society at Yale University. I thought his explanation was simple and easytograsp.br br What I found fascinating was the opposition to Law of Success and Think And Grow Rich when they came out in the 1920s.br It was strikingly similar to the backlash the book The Secret experienced. You'll just have to find out for yourself br br What I really like about this program is that the information on the CDs is enough for anyone to dramatically change their life for the better..IF they consciously apply it. Mr. Trudeau gives you the OPTION of reading a list of books that he endorses and recommendsthat are not his and if anyone is interested, they can join The Global Information Network to get additional books and audios if they want to go further in learning the technology.br br I am well aware of Mr. Trudeau's past and some of the negative comments on the internet. In other words, I'm one of those people who have been on the seminar circuit.br br I received more value from Your Wish Is Your Command than any of those seminars and I didn't have to travel anywhere.br So, for me, spending 399 for this course was a bargain.br br This is NOT as CD program you just listen to once. To get the most of this program, you need to listen to it many times.br The information is presented in a style that is repetitious by design so that it can sink in to your subconscious mind andbr it becomes a part of you.br br Now, I've been getting quite a few emails with questions about this review and about this CD course. So, I'm going to answer some of the most frequently asked questions here.br br 1 Is this course just a rehash of existing material?br NO. Kevin also discusses some concepts that will be new to overwhelming majority of people who listen to this course. And if you are one of those people who read Law of Success andbr Think and Grow Rich, both those books are missing some key elements. In fact over 90 of the people who have read The Secret, Think and Grow Rich, and Law of Success haven't gotten the results they wanted. That's why some people have labeled those books a scam or 'snake oil'br br 2 Are you a member of the Global Information Network?br No. I am not currently a member of the Global Information Network.br br 3 How soon can I expect to see results after listening to this program?br That depends how diligent you are in applying the information. If you are onebr of those people, you will have to put forth extra effort to establish new thought patterns to get new results.br br The bottom line is this If you think you already know this information and you don't have the results to show it,br you don't know it. You're doing something wrong, plan and simple.br br So,I highly recommend this program to anyone who's looking to tap into their limitless potential.br br Best of Luck To You,br br John Hindsbr Author of the Amazon BestSeller What's In Your Water? I have also listened to this set of CDs, but found them on YouTube. Love you.br And I have started the CDs over myself. Just so much information and the more you go over it the more you will get out of it. I feel it has changed my life and I am very appreciative for this information. I don't even mind commuting anymore because as I listen to it over and over, each time I feel I glean more positive feelings about life's possibilities. This set is a scam.br br You will notice that nowhere on the box set does it state the man behind this Why? This box set is his latest but this time, his name is not plastered on it it serves as a veil to shield Kevin Trudeau from more investigations by the authorities.br br He is a current bankrupt. And this box set and KT dont get my vote.br br I hope the authorities catch up with him before more fall for his exploits. I thought kevin trudeau left the elite brotherhood so how could he be selling tickets to a top secret meeting???\n"
     ]
    }
   ],
   "source": [
    "# Enter a product ID manually\n",
    "product_id = \"B002X3XR70\"  # \n",
    "product_data = df[df[\"parent_asin\"] == product_id].iloc[0]\n",
    "\n",
    "print(\"📦 Product:\", product_data[\"product_title\"])\n",
    "print(\"\\n📝 Full Review Text (first 500 chars):\\n\")\n",
    "print(product_data[\"review_text\"][:500], \"...\\n\")\n",
    "\n",
    "summary = extractive_summary(product_data[\"review_text\"], top_percent=0.25)\n",
    "print(\"📚 Extractive Summary:\\n\")\n",
    "print(summary)\n"
   ]
  },
  {
   "cell_type": "code",
   "execution_count": null,
   "id": "be31016d-baf9-430b-b837-e6ab26734499",
   "metadata": {},
   "outputs": [],
   "source": []
  },
  {
   "cell_type": "code",
   "execution_count": null,
   "id": "768d00b9-0f2c-4e4c-bd95-db9d0cd95a29",
   "metadata": {},
   "outputs": [],
   "source": []
  },
  {
   "cell_type": "code",
   "execution_count": null,
   "id": "853f3aad-ad5f-4cbd-bded-3114e3c99d4a",
   "metadata": {},
   "outputs": [],
   "source": []
  },
  {
   "cell_type": "code",
   "execution_count": null,
   "id": "22a2c458-2f21-484a-a519-3ef49d6c0e02",
   "metadata": {},
   "outputs": [],
   "source": []
  },
  {
   "cell_type": "code",
   "execution_count": null,
   "id": "098abc38-3d3e-4230-9f50-f645b8771496",
   "metadata": {},
   "outputs": [],
   "source": []
  },
  {
   "cell_type": "code",
   "execution_count": null,
   "id": "64aae73d-2aca-4cdd-bffd-f937eef73359",
   "metadata": {},
   "outputs": [],
   "source": []
  },
  {
   "cell_type": "code",
   "execution_count": null,
   "id": "ef7afe44-a95a-456a-855e-75d2420a5980",
   "metadata": {},
   "outputs": [],
   "source": []
  },
  {
   "cell_type": "code",
   "execution_count": null,
   "id": "79e7ea3a-80b3-4d37-80e7-f0d4fda4b960",
   "metadata": {},
   "outputs": [],
   "source": []
  },
  {
   "cell_type": "code",
   "execution_count": null,
   "id": "d92f56c3-f59a-4fc2-b7ee-29912a9d0092",
   "metadata": {},
   "outputs": [],
   "source": []
  },
  {
   "cell_type": "code",
   "execution_count": null,
   "id": "2dd9864f-2d77-471c-bec8-b5093b1da914",
   "metadata": {},
   "outputs": [],
   "source": []
  },
  {
   "cell_type": "code",
   "execution_count": null,
   "id": "1340a1ea-4b39-4c16-9593-a1d5f5c63a1c",
   "metadata": {},
   "outputs": [],
   "source": []
  },
  {
   "cell_type": "code",
   "execution_count": null,
   "id": "8fdde03e-3cde-4546-b24c-5dd176a8c87e",
   "metadata": {},
   "outputs": [],
   "source": []
  },
  {
   "cell_type": "code",
   "execution_count": null,
   "id": "0d08a6ec-ef5a-48a2-b56d-5fb0a1f5ed34",
   "metadata": {},
   "outputs": [],
   "source": []
  },
  {
   "cell_type": "code",
   "execution_count": null,
   "id": "4c40e883-8698-4313-b748-ae6a5bf5214c",
   "metadata": {},
   "outputs": [],
   "source": []
  },
  {
   "cell_type": "code",
   "execution_count": null,
   "id": "6845bd41-5deb-4584-86e1-5021dd61d6cb",
   "metadata": {},
   "outputs": [],
   "source": []
  },
  {
   "cell_type": "code",
   "execution_count": null,
   "id": "9560eac2-837b-4054-bd5c-6b4a9845400d",
   "metadata": {},
   "outputs": [],
   "source": []
  },
  {
   "cell_type": "code",
   "execution_count": null,
   "id": "0f44e394-2004-435a-9bae-e5d584ce4883",
   "metadata": {},
   "outputs": [],
   "source": [
    "\n"
   ]
  },
  {
   "cell_type": "code",
   "execution_count": null,
   "id": "497ed4e1-d9ea-4935-becf-2450e80d3e7e",
   "metadata": {},
   "outputs": [],
   "source": []
  }
 ],
 "metadata": {
  "kernelspec": {
   "display_name": "Python 3 (ipykernel)",
   "language": "python",
   "name": "python3"
  },
  "language_info": {
   "codemirror_mode": {
    "name": "ipython",
    "version": 3
   },
   "file_extension": ".py",
   "mimetype": "text/x-python",
   "name": "python",
   "nbconvert_exporter": "python",
   "pygments_lexer": "ipython3",
   "version": "3.13.7"
  }
 },
 "nbformat": 4,
 "nbformat_minor": 5
}
