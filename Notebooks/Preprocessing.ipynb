{
 "cells": [
  {
   "cell_type": "code",
   "execution_count": 1,
   "id": "4d5311dd-4135-4f7d-a503-9060a9d8cd2e",
   "metadata": {},
   "outputs": [],
   "source": [
    "import json\n",
    "import pandas as pd\n",
    "import numpy as np\n",
    "import matplotlib.pyplot as plt\n",
    "import seaborn as sns\n",
    "import re\n",
    "from tqdm import tqdm"
   ]
  },
  {
   "cell_type": "markdown",
   "id": "275d78a2-055e-45b1-b25d-1c855fd503b5",
   "metadata": {},
   "source": [
    "# Loading and EDA"
   ]
  },
  {
   "cell_type": "code",
   "execution_count": 2,
   "id": "ed69c984-6b5c-402a-a7f0-7f5a1968e28a",
   "metadata": {},
   "outputs": [
    {
     "data": {
      "text/html": [
       "<div>\n",
       "<style scoped>\n",
       "    .dataframe tbody tr th:only-of-type {\n",
       "        vertical-align: middle;\n",
       "    }\n",
       "\n",
       "    .dataframe tbody tr th {\n",
       "        vertical-align: top;\n",
       "    }\n",
       "\n",
       "    .dataframe thead th {\n",
       "        text-align: right;\n",
       "    }\n",
       "</style>\n",
       "<table border=\"1\" class=\"dataframe\">\n",
       "  <thead>\n",
       "    <tr style=\"text-align: right;\">\n",
       "      <th></th>\n",
       "      <th>rating</th>\n",
       "      <th>title</th>\n",
       "      <th>text</th>\n",
       "      <th>images</th>\n",
       "      <th>asin</th>\n",
       "      <th>parent_asin</th>\n",
       "      <th>user_id</th>\n",
       "      <th>timestamp</th>\n",
       "      <th>helpful_vote</th>\n",
       "      <th>verified_purchase</th>\n",
       "    </tr>\n",
       "  </thead>\n",
       "  <tbody>\n",
       "    <tr>\n",
       "      <th>0</th>\n",
       "      <td>5.0</td>\n",
       "      <td>Nice</td>\n",
       "      <td>If i had a dollar for how many times I have pl...</td>\n",
       "      <td>[]</td>\n",
       "      <td>B004RQ2IRG</td>\n",
       "      <td>B004RQ2IRG</td>\n",
       "      <td>AFUOYIZBU3MTBOLYKOJE5Z35MBDA</td>\n",
       "      <td>1618972613292</td>\n",
       "      <td>0</td>\n",
       "      <td>True</td>\n",
       "    </tr>\n",
       "    <tr>\n",
       "      <th>1</th>\n",
       "      <td>5.0</td>\n",
       "      <td>Excellent</td>\n",
       "      <td>awesome sound - cant wait to see them in perso...</td>\n",
       "      <td>[]</td>\n",
       "      <td>B0026UZEI0</td>\n",
       "      <td>B0026UZEI0</td>\n",
       "      <td>AHGAOIZVODNHYMNCBV4DECZH42UQ</td>\n",
       "      <td>1308167525000</td>\n",
       "      <td>0</td>\n",
       "      <td>True</td>\n",
       "    </tr>\n",
       "  </tbody>\n",
       "</table>\n",
       "</div>"
      ],
      "text/plain": [
       "   rating      title                                               text  \\\n",
       "0     5.0       Nice  If i had a dollar for how many times I have pl...   \n",
       "1     5.0  Excellent  awesome sound - cant wait to see them in perso...   \n",
       "\n",
       "  images        asin parent_asin                       user_id      timestamp  \\\n",
       "0     []  B004RQ2IRG  B004RQ2IRG  AFUOYIZBU3MTBOLYKOJE5Z35MBDA  1618972613292   \n",
       "1     []  B0026UZEI0  B0026UZEI0  AHGAOIZVODNHYMNCBV4DECZH42UQ  1308167525000   \n",
       "\n",
       "   helpful_vote  verified_purchase  \n",
       "0             0               True  \n",
       "1             0               True  "
      ]
     },
     "execution_count": 2,
     "metadata": {},
     "output_type": "execute_result"
    }
   ],
   "source": [
    "# Paths to your JSONL files\n",
    "reviews_path = \"Digital_Music_reviews.jsonl\"\n",
    "meta_path = \"Digital_Music_meta.jsonl\"\n",
    "\n",
    "# Load review dataset\n",
    "reviews = []\n",
    "with open(reviews_path, \"r\", encoding=\"utf-8\") as f:\n",
    "    for line in f:\n",
    "        reviews.append(json.loads(line))\n",
    "reviews_df = pd.DataFrame(reviews)\n",
    "\n",
    "reviews_df.head(2)"
   ]
  },
  {
   "cell_type": "code",
   "execution_count": 3,
   "id": "d4c0ef14-f718-4a7d-8130-d60aacea8a04",
   "metadata": {},
   "outputs": [
    {
     "name": "stdout",
     "output_type": "stream",
     "text": [
      "Reviews shape: (130434, 10)\n",
      "Meta shape: (70537, 14)\n"
     ]
    },
    {
     "data": {
      "text/html": [
       "<div>\n",
       "<style scoped>\n",
       "    .dataframe tbody tr th:only-of-type {\n",
       "        vertical-align: middle;\n",
       "    }\n",
       "\n",
       "    .dataframe tbody tr th {\n",
       "        vertical-align: top;\n",
       "    }\n",
       "\n",
       "    .dataframe thead th {\n",
       "        text-align: right;\n",
       "    }\n",
       "</style>\n",
       "<table border=\"1\" class=\"dataframe\">\n",
       "  <thead>\n",
       "    <tr style=\"text-align: right;\">\n",
       "      <th></th>\n",
       "      <th>main_category</th>\n",
       "      <th>title</th>\n",
       "      <th>average_rating</th>\n",
       "      <th>rating_number</th>\n",
       "      <th>features</th>\n",
       "      <th>description</th>\n",
       "      <th>price</th>\n",
       "      <th>images</th>\n",
       "      <th>videos</th>\n",
       "      <th>store</th>\n",
       "      <th>categories</th>\n",
       "      <th>details</th>\n",
       "      <th>parent_asin</th>\n",
       "      <th>bought_together</th>\n",
       "    </tr>\n",
       "  </thead>\n",
       "  <tbody>\n",
       "    <tr>\n",
       "      <th>0</th>\n",
       "      <td>Digital Music</td>\n",
       "      <td>Baja Marimba Band</td>\n",
       "      <td>4.9</td>\n",
       "      <td>8</td>\n",
       "      <td>[]</td>\n",
       "      <td>[]</td>\n",
       "      <td>NaN</td>\n",
       "      <td>[{'thumb': 'https://m.media-amazon.com/images/...</td>\n",
       "      <td>[]</td>\n",
       "      <td>None</td>\n",
       "      <td>[]</td>\n",
       "      <td>{'Date First Available': 'February 28, 2010'}</td>\n",
       "      <td>B000V87RP2</td>\n",
       "      <td>None</td>\n",
       "    </tr>\n",
       "    <tr>\n",
       "      <th>1</th>\n",
       "      <td>Digital Music</td>\n",
       "      <td>'80s Halloween-All Original Artists &amp; Recordings</td>\n",
       "      <td>5.0</td>\n",
       "      <td>3</td>\n",
       "      <td>[]</td>\n",
       "      <td>[]</td>\n",
       "      <td>14.98</td>\n",
       "      <td>[{'thumb': 'https://m.media-amazon.com/images/...</td>\n",
       "      <td>[]</td>\n",
       "      <td>Love and Rockets  (Artist),     Duran Duran  (...</td>\n",
       "      <td>[]</td>\n",
       "      <td>{'Package Dimensions': '5.55 x 4.97 x 0.54 inc...</td>\n",
       "      <td>B0062F0MJQ</td>\n",
       "      <td>None</td>\n",
       "    </tr>\n",
       "  </tbody>\n",
       "</table>\n",
       "</div>"
      ],
      "text/plain": [
       "   main_category                                             title  \\\n",
       "0  Digital Music                                 Baja Marimba Band   \n",
       "1  Digital Music  '80s Halloween-All Original Artists & Recordings   \n",
       "\n",
       "   average_rating  rating_number features description  price  \\\n",
       "0             4.9              8       []          []    NaN   \n",
       "1             5.0              3       []          []  14.98   \n",
       "\n",
       "                                              images videos  \\\n",
       "0  [{'thumb': 'https://m.media-amazon.com/images/...     []   \n",
       "1  [{'thumb': 'https://m.media-amazon.com/images/...     []   \n",
       "\n",
       "                                               store categories  \\\n",
       "0                                               None         []   \n",
       "1  Love and Rockets  (Artist),     Duran Duran  (...         []   \n",
       "\n",
       "                                             details parent_asin  \\\n",
       "0      {'Date First Available': 'February 28, 2010'}  B000V87RP2   \n",
       "1  {'Package Dimensions': '5.55 x 4.97 x 0.54 inc...  B0062F0MJQ   \n",
       "\n",
       "  bought_together  \n",
       "0            None  \n",
       "1            None  "
      ]
     },
     "execution_count": 3,
     "metadata": {},
     "output_type": "execute_result"
    }
   ],
   "source": [
    "# Load meta dataset\n",
    "meta = []\n",
    "with open(meta_path, \"r\", encoding=\"utf-8\") as f:\n",
    "    for line in f:\n",
    "        meta.append(json.loads(line))\n",
    "meta_df = pd.DataFrame(meta)\n",
    "\n",
    "print(\"Reviews shape:\", reviews_df.shape)\n",
    "print(\"Meta shape:\", meta_df.shape)\n",
    "\n",
    "meta_df.head(2)"
   ]
  },
  {
   "cell_type": "code",
   "execution_count": 4,
   "id": "f95b4772-9d93-4cb2-8d4d-f8469304875d",
   "metadata": {},
   "outputs": [
    {
     "data": {
      "image/png": "[encoded data removed]",
      "text/plain": [
       "<Figure size 600x400 with 1 Axes>"
      ]
     },
     "metadata": {},
     "output_type": "display_data"
    }
   ],
   "source": [
    "# Rating distribution\n",
    "plt.figure(figsize=(6,4))\n",
    "sns.countplot(x='rating', data=reviews_df)\n",
    "plt.title(\"Distribution of Review Ratings\")\n",
    "plt.show()"
   ]
  },
  {
   "cell_type": "code",
   "execution_count": 5,
   "id": "3372d5c6-57d5-4235-bed3-4a5dee612e58",
   "metadata": {},
   "outputs": [
    {
     "data": {
      "image/png": "[encoded data removed]",
      "text/plain": [
       "<Figure size 600x400 with 1 Axes>"
      ]
     },
     "metadata": {},
     "output_type": "display_data"
    }
   ],
   "source": [
    "# Review length distribution\n",
    "reviews_df['text_length'] = reviews_df['text'].astype(str).apply(len)\n",
    "plt.figure(figsize=(6,4))\n",
    "sns.histplot(reviews_df['text_length'], bins=50, kde=True)\n",
    "plt.title(\"Distribution of Review Text Lengths\")\n",
    "plt.show()"
   ]
  },
  {
   "cell_type": "code",
   "execution_count": 6,
   "id": "ad7121af-806d-42a2-8593-29b58318d334",
   "metadata": {},
   "outputs": [
    {
     "data": {
      "text/html": [
       "<div>\n",
       "<style scoped>\n",
       "    .dataframe tbody tr th:only-of-type {\n",
       "        vertical-align: middle;\n",
       "    }\n",
       "\n",
       "    .dataframe tbody tr th {\n",
       "        vertical-align: top;\n",
       "    }\n",
       "\n",
       "    .dataframe thead th {\n",
       "        text-align: right;\n",
       "    }\n",
       "</style>\n",
       "<table border=\"1\" class=\"dataframe\">\n",
       "  <thead>\n",
       "    <tr style=\"text-align: right;\">\n",
       "      <th></th>\n",
       "      <th>rating</th>\n",
       "      <th>text_length</th>\n",
       "    </tr>\n",
       "  </thead>\n",
       "  <tbody>\n",
       "    <tr>\n",
       "      <th>count</th>\n",
       "      <td>130434.000000</td>\n",
       "      <td>130434.000000</td>\n",
       "    </tr>\n",
       "    <tr>\n",
       "      <th>mean</th>\n",
       "      <td>4.532837</td>\n",
       "      <td>340.236280</td>\n",
       "    </tr>\n",
       "    <tr>\n",
       "      <th>std</th>\n",
       "      <td>1.027994</td>\n",
       "      <td>748.095233</td>\n",
       "    </tr>\n",
       "    <tr>\n",
       "      <th>min</th>\n",
       "      <td>1.000000</td>\n",
       "      <td>0.000000</td>\n",
       "    </tr>\n",
       "    <tr>\n",
       "      <th>25%</th>\n",
       "      <td>5.000000</td>\n",
       "      <td>43.000000</td>\n",
       "    </tr>\n",
       "    <tr>\n",
       "      <th>50%</th>\n",
       "      <td>5.000000</td>\n",
       "      <td>124.000000</td>\n",
       "    </tr>\n",
       "    <tr>\n",
       "      <th>75%</th>\n",
       "      <td>5.000000</td>\n",
       "      <td>319.000000</td>\n",
       "    </tr>\n",
       "    <tr>\n",
       "      <th>max</th>\n",
       "      <td>5.000000</td>\n",
       "      <td>24366.000000</td>\n",
       "    </tr>\n",
       "  </tbody>\n",
       "</table>\n",
       "</div>"
      ],
      "text/plain": [
       "              rating    text_length\n",
       "count  130434.000000  130434.000000\n",
       "mean        4.532837     340.236280\n",
       "std         1.027994     748.095233\n",
       "min         1.000000       0.000000\n",
       "25%         5.000000      43.000000\n",
       "50%         5.000000     124.000000\n",
       "75%         5.000000     319.000000\n",
       "max         5.000000   24366.000000"
      ]
     },
     "execution_count": 6,
     "metadata": {},
     "output_type": "execute_result"
    }
   ],
   "source": [
    "reviews_df[['rating','text_length']].describe()"
   ]
  },
  {
   "cell_type": "code",
   "execution_count": 7,
   "id": "9b310263-26fa-45b5-af1e-0fbbb2699b8c",
   "metadata": {},
   "outputs": [
    {
     "data": {
      "image/png": "[encoded data removed]",
      "text/plain": [
       "<Figure size 600x400 with 1 Axes>"
      ]
     },
     "metadata": {},
     "output_type": "display_data"
    }
   ],
   "source": [
    "# Rating distribution\n",
    "plt.figure(figsize=(6,4))\n",
    "sns.countplot(x='helpful_vote', data=reviews_df)\n",
    "plt.title(\"Distribution of Helpful votes\")\n",
    "plt.show()"
   ]
  },
  {
   "cell_type": "code",
   "execution_count": 16,
   "id": "f2981503-319c-4c14-a65e-a66345c50628",
   "metadata": {},
   "outputs": [
    {
     "data": {
      "text/plain": [
       "93547"
      ]
     },
     "execution_count": 16,
     "metadata": {},
     "output_type": "execute_result"
    }
   ],
   "source": [
    "reviews_df.query(\"text_length > 50\").shape[0]"
   ]
  },
  {
   "cell_type": "code",
   "execution_count": 14,
   "id": "96ed2444-a966-469e-95e0-de1ca74c14ca",
   "metadata": {},
   "outputs": [
    {
     "data": {
      "text/plain": [
       "130434"
      ]
     },
     "execution_count": 14,
     "metadata": {},
     "output_type": "execute_result"
    }
   ],
   "source": [
    "reviews_df.shape[0]"
   ]
  },
  {
   "cell_type": "markdown",
   "id": "264a0a81-babf-43fb-87ac-95b561fda3f2",
   "metadata": {},
   "source": [
    "# Cleaning"
   ]
  },
  {
   "cell_type": "code",
   "execution_count": 17,
   "id": "dae9c626-3e8d-42e7-9bae-f35a5c4304e0",
   "metadata": {},
   "outputs": [
    {
     "name": "stderr",
     "output_type": "stream",
     "text": [
      "100%|███████████████████████████████████████████████████████████████████████| 130384/130384 [00:03<00:00, 37877.64it/s]\n",
      "C:\\Users\\kotha\\AppData\\Local\\Temp\\ipykernel_13468\\2857905506.py:11: SettingWithCopyWarning: \n",
      "A value is trying to be set on a copy of a slice from a DataFrame.\n",
      "Try using .loc[row_indexer,col_indexer] = value instead\n",
      "\n",
      "See the caveats in the documentation: https://pandas.pydata.org/pandas-docs/stable/user_guide/indexing.html#returning-a-view-versus-a-copy\n",
      "  reviews_df['clean_text'] = reviews_df['text'].progress_apply(clean_text)\n"
     ]
    },
    {
     "data": {
      "text/html": [
       "<div>\n",
       "<style scoped>\n",
       "    .dataframe tbody tr th:only-of-type {\n",
       "        vertical-align: middle;\n",
       "    }\n",
       "\n",
       "    .dataframe tbody tr th {\n",
       "        vertical-align: top;\n",
       "    }\n",
       "\n",
       "    .dataframe thead th {\n",
       "        text-align: right;\n",
       "    }\n",
       "</style>\n",
       "<table border=\"1\" class=\"dataframe\">\n",
       "  <thead>\n",
       "    <tr style=\"text-align: right;\">\n",
       "      <th></th>\n",
       "      <th>parent_asin</th>\n",
       "      <th>rating</th>\n",
       "      <th>title</th>\n",
       "      <th>review_text</th>\n",
       "      <th>helpful_vote</th>\n",
       "      <th>verified_purchase</th>\n",
       "    </tr>\n",
       "  </thead>\n",
       "  <tbody>\n",
       "    <tr>\n",
       "      <th>0</th>\n",
       "      <td>B004RQ2IRG</td>\n",
       "      <td>5.0</td>\n",
       "      <td>Nice</td>\n",
       "      <td>If i had a dollar for how many times I have pl...</td>\n",
       "      <td>0</td>\n",
       "      <td>True</td>\n",
       "    </tr>\n",
       "    <tr>\n",
       "      <th>1</th>\n",
       "      <td>B0026UZEI0</td>\n",
       "      <td>5.0</td>\n",
       "      <td>Excellent</td>\n",
       "      <td>awesome sound cant wait to see them in person ...</td>\n",
       "      <td>0</td>\n",
       "      <td>True</td>\n",
       "    </tr>\n",
       "    <tr>\n",
       "      <th>2</th>\n",
       "      <td>B0055JSYHC</td>\n",
       "      <td>5.0</td>\n",
       "      <td>Great service</td>\n",
       "      <td>This is a great cd. Good music and plays well....</td>\n",
       "      <td>0</td>\n",
       "      <td>True</td>\n",
       "    </tr>\n",
       "    <tr>\n",
       "      <th>3</th>\n",
       "      <td>B000F9SMUQ</td>\n",
       "      <td>1.0</td>\n",
       "      <td>No good</td>\n",
       "      <td>These are not real German singers, they have a...</td>\n",
       "      <td>0</td>\n",
       "      <td>True</td>\n",
       "    </tr>\n",
       "    <tr>\n",
       "      <th>4</th>\n",
       "      <td>B0049D1WVK</td>\n",
       "      <td>3.0</td>\n",
       "      <td>Cool concept, so-so execution...</td>\n",
       "      <td>I first heard this playing in a Nagoya shop an...</td>\n",
       "      <td>0</td>\n",
       "      <td>False</td>\n",
       "    </tr>\n",
       "  </tbody>\n",
       "</table>\n",
       "</div>"
      ],
      "text/plain": [
       "  parent_asin  rating                             title  \\\n",
       "0  B004RQ2IRG     5.0                              Nice   \n",
       "1  B0026UZEI0     5.0                         Excellent   \n",
       "2  B0055JSYHC     5.0                     Great service   \n",
       "3  B000F9SMUQ     1.0                           No good   \n",
       "4  B0049D1WVK     3.0  Cool concept, so-so execution...   \n",
       "\n",
       "                                         review_text  helpful_vote  \\\n",
       "0  If i had a dollar for how many times I have pl...             0   \n",
       "1  awesome sound cant wait to see them in person ...             0   \n",
       "2  This is a great cd. Good music and plays well....             0   \n",
       "3  These are not real German singers, they have a...             0   \n",
       "4  I first heard this playing in a Nagoya shop an...             0   \n",
       "\n",
       "   verified_purchase  \n",
       "0               True  \n",
       "1               True  \n",
       "2               True  \n",
       "3               True  \n",
       "4              False  "
      ]
     },
     "execution_count": 17,
     "metadata": {},
     "output_type": "execute_result"
    }
   ],
   "source": [
    "reviews_df = reviews_df[reviews_df['text'].notnull() & (reviews_df['text'].str.strip() != '')]\n",
    "\n",
    "# Clean text\n",
    "def clean_text(t):\n",
    "    t = re.sub(r'http\\S+', '', t)              # remove URLs\n",
    "    t = re.sub(r'[^A-Za-z0-9.,!?\\'\\s]', '', t) # remove non-alphanumeric\n",
    "    t = re.sub(r'\\s+', ' ', t).strip()         # remove extra spaces\n",
    "    return t\n",
    "\n",
    "tqdm.pandas()\n",
    "reviews_df['clean_text'] = reviews_df['text'].progress_apply(clean_text)\n",
    "\n",
    "# Keep only useful columns\n",
    "reviews_df = reviews_df[['parent_asin', 'rating', 'title', 'clean_text', 'helpful_vote', 'verified_purchase']]\n",
    "reviews_df.rename(columns={'clean_text':'review_text'}, inplace=True)\n",
    "reviews_df.head()"
   ]
  },
  {
   "cell_type": "code",
   "execution_count": 18,
   "id": "99a4b195-7471-4d86-8f88-960d32c01127",
   "metadata": {},
   "outputs": [
    {
     "data": {
      "text/html": [
       "<div>\n",
       "<style scoped>\n",
       "    .dataframe tbody tr th:only-of-type {\n",
       "        vertical-align: middle;\n",
       "    }\n",
       "\n",
       "    .dataframe tbody tr th {\n",
       "        vertical-align: top;\n",
       "    }\n",
       "\n",
       "    .dataframe thead th {\n",
       "        text-align: right;\n",
       "    }\n",
       "</style>\n",
       "<table border=\"1\" class=\"dataframe\">\n",
       "  <thead>\n",
       "    <tr style=\"text-align: right;\">\n",
       "      <th></th>\n",
       "      <th>parent_asin</th>\n",
       "      <th>product_title</th>\n",
       "      <th>average_rating</th>\n",
       "    </tr>\n",
       "  </thead>\n",
       "  <tbody>\n",
       "    <tr>\n",
       "      <th>0</th>\n",
       "      <td>B000V87RP2</td>\n",
       "      <td>Baja Marimba Band</td>\n",
       "      <td>4.9</td>\n",
       "    </tr>\n",
       "    <tr>\n",
       "      <th>1</th>\n",
       "      <td>B0062F0MJQ</td>\n",
       "      <td>'80s Halloween-All Original Artists &amp; Recordings</td>\n",
       "      <td>5.0</td>\n",
       "    </tr>\n",
       "    <tr>\n",
       "      <th>2</th>\n",
       "      <td>B00005GT12</td>\n",
       "      <td>TRIO +1</td>\n",
       "      <td>5.0</td>\n",
       "    </tr>\n",
       "    <tr>\n",
       "      <th>3</th>\n",
       "      <td>B0007PD2BW</td>\n",
       "      <td>Gold and Silver: Lehar, Delibes, Lanner, Johan...</td>\n",
       "      <td>5.0</td>\n",
       "    </tr>\n",
       "    <tr>\n",
       "      <th>4</th>\n",
       "      <td>B079CPD45R</td>\n",
       "      <td>Grateful Dead Dave's Picks Volume 25 Live at B...</td>\n",
       "      <td>4.9</td>\n",
       "    </tr>\n",
       "  </tbody>\n",
       "</table>\n",
       "</div>"
      ],
      "text/plain": [
       "  parent_asin                                      product_title  \\\n",
       "0  B000V87RP2                                  Baja Marimba Band   \n",
       "1  B0062F0MJQ   '80s Halloween-All Original Artists & Recordings   \n",
       "2  B00005GT12                                            TRIO +1   \n",
       "3  B0007PD2BW  Gold and Silver: Lehar, Delibes, Lanner, Johan...   \n",
       "4  B079CPD45R  Grateful Dead Dave's Picks Volume 25 Live at B...   \n",
       "\n",
       "   average_rating  \n",
       "0             4.9  \n",
       "1             5.0  \n",
       "2             5.0  \n",
       "3             5.0  \n",
       "4             4.9  "
      ]
     },
     "execution_count": 18,
     "metadata": {},
     "output_type": "execute_result"
    }
   ],
   "source": [
    "meta_df = meta_df[['parent_asin', 'title', 'average_rating']].dropna(subset=['parent_asin'])\n",
    "meta_df.rename(columns={'title':'product_title'}, inplace=True)\n",
    "meta_df.head()"
   ]
  },
  {
   "cell_type": "code",
   "execution_count": 19,
   "id": "85741bea-5d82-4f17-b0a8-0fd13fed2196",
   "metadata": {},
   "outputs": [
    {
     "name": "stdout",
     "output_type": "stream",
     "text": [
      "Merged dataset shape: (130384, 8)\n"
     ]
    },
    {
     "data": {
      "text/html": [
       "<div>\n",
       "<style scoped>\n",
       "    .dataframe tbody tr th:only-of-type {\n",
       "        vertical-align: middle;\n",
       "    }\n",
       "\n",
       "    .dataframe tbody tr th {\n",
       "        vertical-align: top;\n",
       "    }\n",
       "\n",
       "    .dataframe thead th {\n",
       "        text-align: right;\n",
       "    }\n",
       "</style>\n",
       "<table border=\"1\" class=\"dataframe\">\n",
       "  <thead>\n",
       "    <tr style=\"text-align: right;\">\n",
       "      <th></th>\n",
       "      <th>parent_asin</th>\n",
       "      <th>rating</th>\n",
       "      <th>title</th>\n",
       "      <th>review_text</th>\n",
       "      <th>helpful_vote</th>\n",
       "      <th>verified_purchase</th>\n",
       "      <th>product_title</th>\n",
       "      <th>average_rating</th>\n",
       "    </tr>\n",
       "  </thead>\n",
       "  <tbody>\n",
       "    <tr>\n",
       "      <th>0</th>\n",
       "      <td>B004RQ2IRG</td>\n",
       "      <td>5.0</td>\n",
       "      <td>Nice</td>\n",
       "      <td>If i had a dollar for how many times I have pl...</td>\n",
       "      <td>0</td>\n",
       "      <td>True</td>\n",
       "      <td>Good Things</td>\n",
       "      <td>4.5</td>\n",
       "    </tr>\n",
       "    <tr>\n",
       "      <th>1</th>\n",
       "      <td>B0026UZEI0</td>\n",
       "      <td>5.0</td>\n",
       "      <td>Excellent</td>\n",
       "      <td>awesome sound cant wait to see them in person ...</td>\n",
       "      <td>0</td>\n",
       "      <td>True</td>\n",
       "      <td>Sugar Red Drive</td>\n",
       "      <td>5.0</td>\n",
       "    </tr>\n",
       "    <tr>\n",
       "      <th>2</th>\n",
       "      <td>B0055JSYHC</td>\n",
       "      <td>5.0</td>\n",
       "      <td>Great service</td>\n",
       "      <td>This is a great cd. Good music and plays well....</td>\n",
       "      <td>0</td>\n",
       "      <td>True</td>\n",
       "      <td>Body + Soul: The '70s (Time-Life)</td>\n",
       "      <td>4.8</td>\n",
       "    </tr>\n",
       "  </tbody>\n",
       "</table>\n",
       "</div>"
      ],
      "text/plain": [
       "  parent_asin  rating          title  \\\n",
       "0  B004RQ2IRG     5.0           Nice   \n",
       "1  B0026UZEI0     5.0      Excellent   \n",
       "2  B0055JSYHC     5.0  Great service   \n",
       "\n",
       "                                         review_text  helpful_vote  \\\n",
       "0  If i had a dollar for how many times I have pl...             0   \n",
       "1  awesome sound cant wait to see them in person ...             0   \n",
       "2  This is a great cd. Good music and plays well....             0   \n",
       "\n",
       "   verified_purchase                      product_title  average_rating  \n",
       "0               True                        Good Things             4.5  \n",
       "1               True                    Sugar Red Drive             5.0  \n",
       "2               True  Body + Soul: The '70s (Time-Life)             4.8  "
      ]
     },
     "execution_count": 19,
     "metadata": {},
     "output_type": "execute_result"
    }
   ],
   "source": [
    "merged_df = pd.merge(reviews_df, meta_df, on='parent_asin', how='left')\n",
    "print(\"Merged dataset shape:\", merged_df.shape)\n",
    "merged_df.head(3)"
   ]
  },
  {
   "cell_type": "code",
   "execution_count": 20,
   "id": "4611030a-81d6-434c-bce5-89578f8b8d2f",
   "metadata": {},
   "outputs": [
    {
     "name": "stdout",
     "output_type": "stream",
     "text": [
      "<class 'pandas.core.frame.DataFrame'>\n",
      "Index: 128641 entries, 0 to 130383\n",
      "Data columns (total 8 columns):\n",
      " #   Column             Non-Null Count   Dtype  \n",
      "---  ------             --------------   -----  \n",
      " 0   parent_asin        128641 non-null  object \n",
      " 1   rating             128641 non-null  float64\n",
      " 2   title              128641 non-null  object \n",
      " 3   review_text        128641 non-null  object \n",
      " 4   helpful_vote       128641 non-null  int64  \n",
      " 5   verified_purchase  128641 non-null  bool   \n",
      " 6   product_title      128641 non-null  object \n",
      " 7   average_rating     128641 non-null  float64\n",
      "dtypes: bool(1), float64(2), int64(1), object(4)\n",
      "memory usage: 8.0+ MB\n",
      "None\n",
      "                 count  unique         top   freq      mean       std  min  \\\n",
      "parent_asin     128641   70497  B00003CXKT    397       NaN       NaN  NaN   \n",
      "rating        128641.0     NaN         NaN    NaN  4.535685  1.024166  1.0   \n",
      "title           128641   85970  Five Stars  17068       NaN       NaN  NaN   \n",
      "review_text     128641  118367       Great    386       NaN       NaN  NaN   \n",
      "helpful_vote  128641.0     NaN         NaN    NaN  1.044092  3.480791  0.0   \n",
      "\n",
      "              25%  50%  75%    max  \n",
      "parent_asin   NaN  NaN  NaN    NaN  \n",
      "rating        5.0  5.0  5.0    5.0  \n",
      "title         NaN  NaN  NaN    NaN  \n",
      "review_text   NaN  NaN  NaN    NaN  \n",
      "helpful_vote  0.0  0.0  1.0  259.0  \n",
      "Unique Products: 70497\n"
     ]
    }
   ],
   "source": [
    "# Drop rows without product title\n",
    "merged_df = merged_df.dropna(subset=['product_title'])\n",
    "\n",
    "# Remove duplicates\n",
    "merged_df.drop_duplicates(subset=['parent_asin','review_text'], inplace=True)\n",
    "\n",
    "# Overview\n",
    "print(merged_df.info())\n",
    "print(merged_df.describe(include='all').T.head())\n",
    "\n",
    "# Number of unique products\n",
    "print(\"Unique Products:\", merged_df['parent_asin'].nunique())\n"
   ]
  },
  {
   "cell_type": "code",
   "execution_count": 22,
   "id": "10d85e44-3bf5-4ec8-be32-026b65951ffb",
   "metadata": {},
   "outputs": [
    {
     "name": "stdout",
     "output_type": "stream",
     "text": [
      "Grouped dataset shape: (70497, 6)\n"
     ]
    },
    {
     "data": {
      "text/html": [
       "<div>\n",
       "<style scoped>\n",
       "    .dataframe tbody tr th:only-of-type {\n",
       "        vertical-align: middle;\n",
       "    }\n",
       "\n",
       "    .dataframe tbody tr th {\n",
       "        vertical-align: top;\n",
       "    }\n",
       "\n",
       "    .dataframe thead th {\n",
       "        text-align: right;\n",
       "    }\n",
       "</style>\n",
       "<table border=\"1\" class=\"dataframe\">\n",
       "  <thead>\n",
       "    <tr style=\"text-align: right;\">\n",
       "      <th></th>\n",
       "      <th>parent_asin</th>\n",
       "      <th>product_title</th>\n",
       "      <th>average_rating</th>\n",
       "      <th>review_text</th>\n",
       "      <th>avg_user_rating</th>\n",
       "      <th>helpful_vote</th>\n",
       "    </tr>\n",
       "  </thead>\n",
       "  <tbody>\n",
       "    <tr>\n",
       "      <th>0</th>\n",
       "      <td>0001046314</td>\n",
       "      <td>A Woman of Substance</td>\n",
       "      <td>4.6</td>\n",
       "      <td>Great for a quick tape of the best Bradford bo...</td>\n",
       "      <td>4.0</td>\n",
       "      <td>0</td>\n",
       "    </tr>\n",
       "    <tr>\n",
       "      <th>1</th>\n",
       "      <td>0001046519</td>\n",
       "      <td>The Importance of Being Earnest Complete &amp; Una...</td>\n",
       "      <td>4.5</td>\n",
       "      <td>Oscar Wilde's masterpiece, this play has many,...</td>\n",
       "      <td>5.0</td>\n",
       "      <td>1</td>\n",
       "    </tr>\n",
       "  </tbody>\n",
       "</table>\n",
       "</div>"
      ],
      "text/plain": [
       "  parent_asin                                      product_title  \\\n",
       "0  0001046314                               A Woman of Substance   \n",
       "1  0001046519  The Importance of Being Earnest Complete & Una...   \n",
       "\n",
       "   average_rating                                        review_text  \\\n",
       "0             4.6  Great for a quick tape of the best Bradford bo...   \n",
       "1             4.5  Oscar Wilde's masterpiece, this play has many,...   \n",
       "\n",
       "   avg_user_rating  helpful_vote  \n",
       "0              4.0             0  \n",
       "1              5.0             1  "
      ]
     },
     "execution_count": 22,
     "metadata": {},
     "output_type": "execute_result"
    }
   ],
   "source": [
    "grouped_df = merged_df.groupby(['parent_asin', 'product_title', 'average_rating']).agg({\n",
    "    'review_text': lambda x: ' '.join(x),\n",
    "    'rating': 'mean',\n",
    "    'helpful_vote': 'sum'\n",
    "}).reset_index()\n",
    "\n",
    "grouped_df.rename(columns={'rating':'avg_user_rating'}, inplace=True)\n",
    "\n",
    "print(\"Grouped dataset shape:\", grouped_df.shape)\n",
    "grouped_df.head(2)"
   ]
  },
  {
   "cell_type": "code",
   "execution_count": 23,
   "id": "749faf21-d65e-41d0-abf6-87e51b852971",
   "metadata": {},
   "outputs": [],
   "source": [
    "# Save both — merged (all reviews) and grouped (per product)\n",
    "merged_df.to_csv(\"merged_reviews.csv\", index=False)\n",
    "grouped_df.to_csv(\"grouped_reviews.csv\", index=False)"
   ]
  },
  {
   "cell_type": "code",
   "execution_count": null,
   "id": "7e939f3c-e080-47cd-9cd9-23676ea82b63",
   "metadata": {},
   "outputs": [],
   "source": []
  },
  {
   "cell_type": "code",
   "execution_count": null,
   "id": "96bd543b-bae8-47fb-82f1-cb3cc66c35c7",
   "metadata": {},
   "outputs": [],
   "source": []
  },
  {
   "cell_type": "code",
   "execution_count": null,
   "id": "5c5f7c2f-2294-41e8-b680-3e459c845b67",
   "metadata": {},
   "outputs": [],
   "source": []
  },
  {
   "cell_type": "code",
   "execution_count": null,
   "id": "8242f1b5-0487-4fa9-8981-434456c74d3f",
   "metadata": {},
   "outputs": [],
   "source": []
  },
  {
   "cell_type": "code",
   "execution_count": null,
   "id": "fa079e43-46db-4649-867b-d1298e8376c8",
   "metadata": {},
   "outputs": [],
   "source": []
  },
  {
   "cell_type": "code",
   "execution_count": null,
   "id": "20080995-7626-4238-9f81-9a935fe03344",
   "metadata": {},
   "outputs": [],
   "source": []
  },
  {
   "cell_type": "code",
   "execution_count": null,
   "id": "9534ad07-5dbf-449b-a630-86a5e2fba697",
   "metadata": {},
   "outputs": [],
   "source": []
  },
  {
   "cell_type": "code",
   "execution_count": null,
   "id": "662a34d6-a6d4-461a-8473-c6f0e2e27963",
   "metadata": {},
   "outputs": [],
   "source": []
  },
  {
   "cell_type": "code",
   "execution_count": null,
   "id": "51f7b6a1-b8cb-430f-9b31-7246dcd5d86b",
   "metadata": {},
   "outputs": [],
   "source": []
  },
  {
   "cell_type": "code",
   "execution_count": null,
   "id": "d1ed3637-a57c-460c-9921-1f4cb20047bf",
   "metadata": {},
   "outputs": [],
   "source": []
  },
  {
   "cell_type": "code",
   "execution_count": null,
   "id": "d04a13c0-084d-462c-bb12-6736b901a9b9",
   "metadata": {},
   "outputs": [],
   "source": []
  },
  {
   "cell_type": "code",
   "execution_count": null,
   "id": "076f74d6-e74b-423c-abff-d7d153efd6b9",
   "metadata": {},
   "outputs": [],
   "source": []
  },
  {
   "cell_type": "code",
   "execution_count": null,
   "id": "d18a8f5b-d241-49b0-8495-a95de7163ab6",
   "metadata": {},
   "outputs": [],
   "source": []
  },
  {
   "cell_type": "code",
   "execution_count": null,
   "id": "4c20d052-149d-4cec-a0ec-5ccebd80ac38",
   "metadata": {},
   "outputs": [],
   "source": []
  },
  {
   "cell_type": "code",
   "execution_count": null,
   "id": "73b6346f-de51-4e05-b06b-f85c0dd4f5b4",
   "metadata": {},
   "outputs": [],
   "source": []
  },
  {
   "cell_type": "code",
   "execution_count": null,
   "id": "8ff2d374-d8fb-4201-97f2-419c5178afed",
   "metadata": {},
   "outputs": [],
   "source": []
  },
  {
   "cell_type": "code",
   "execution_count": null,
   "id": "fd5e0dc0-a4bb-4a93-8272-f3b2adb0a146",
   "metadata": {},
   "outputs": [],
   "source": []
  },
  {
   "cell_type": "code",
   "execution_count": null,
   "id": "3288bb52-7bff-4c0b-8dde-8bc4154a2a94",
   "metadata": {},
   "outputs": [],
   "source": []
  },
  {
   "cell_type": "code",
   "execution_count": null,
   "id": "53c20c33-415d-4a6e-b3e7-25b118e0bc83",
   "metadata": {},
   "outputs": [],
   "source": []
  },
  {
   "cell_type": "code",
   "execution_count": null,
   "id": "ffa9c14c-2953-4dcc-b6fd-707be8ce7a5e",
   "metadata": {},
   "outputs": [],
   "source": []
  },
  {
   "cell_type": "code",
   "execution_count": null,
   "id": "5f947177-5faa-4508-b53b-4cadb548d12a",
   "metadata": {},
   "outputs": [],
   "source": []
  }
 ],
 "metadata": {
  "kernelspec": {
   "display_name": "Python 3 (ipykernel)",
   "language": "python",
   "name": "python3"
  },
  "language_info": {
   "codemirror_mode": {
    "name": "ipython",
    "version": 3
   },
   "file_extension": ".py",
   "mimetype": "text/x-python",
   "name": "python",
   "nbconvert_exporter": "python",
   "pygments_lexer": "ipython3",
   "version": "3.13.7"
  }
 },
 "nbformat": 4,
 "nbformat_minor": 5
}
